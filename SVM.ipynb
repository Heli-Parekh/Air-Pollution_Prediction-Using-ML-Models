{
 "cells": [
  {
   "cell_type": "code",
   "execution_count": 2,
   "metadata": {},
   "outputs": [],
   "source": [
    "import pandas as pd\n",
    "import matplotlib.pyplot as plt\n",
    "import numpy\n",
    "import numpy as np\n",
    "import pandas\n",
    "import math\n",
    "\n",
    "from sklearn.linear_model import LinearRegression"
   ]
  },
  {
   "cell_type": "code",
   "execution_count": 3,
   "metadata": {},
   "outputs": [],
   "source": [
    "csv_filename=\"Measurement_info.csv\"\n",
    "\n",
    "# df=pd.read_csv(csv_filename,index_col=0)\n",
    "df=pd.read_csv(csv_filename)"
   ]
  },
  {
   "cell_type": "code",
   "execution_count": 4,
   "metadata": {},
   "outputs": [],
   "source": [
    "df = pd.read_csv(\"Measurement_info.csv\")\n",
    "df1=pd.DataFrame(df)\n",
    "df1=df1[(df1['Station code'] == 101) & (df1['Item code'] == 9)]\n",
    "# df1=df1[(df1['Station code'] == 102) & (df1['Item code'] == 9)]\n",
    "# df1=df1[(df1['Station code'] == 103) & (df1['Item code'] == 9)]\n",
    "# df1=df1[(df1['Station code'] == 104) & (df1['Item code'] == 9)]\n",
    "df1=df1.drop(['Measurement date','Instrument status'],axis=1)\n",
    "dataset=df1['Average value'].values\n",
    "dataset=dataset.astype('float32')"
   ]
  },
  {
   "cell_type": "code",
   "execution_count": 5,
   "metadata": {},
   "outputs": [],
   "source": [
    "minimum=min(dataset)\n",
    "maximum=max(dataset)\n",
    "for i in range(0,len(dataset)):\n",
    "    dataset[i]=(dataset[i]-minimum)/(maximum-minimum)"
   ]
  },
  {
   "cell_type": "code",
   "execution_count": 6,
   "metadata": {},
   "outputs": [
    {
     "data": {
      "text/plain": [
       "array([0.11284047, 0.11673152, 0.11673152, ..., 0.03696498, 0.0389105 ,\n",
       "       0.0311284 ], dtype=float32)"
      ]
     },
     "execution_count": 6,
     "metadata": {},
     "output_type": "execute_result"
    }
   ],
   "source": [
    "dataset"
   ]
  },
  {
   "cell_type": "code",
   "execution_count": 7,
   "metadata": {},
   "outputs": [],
   "source": [
    "df1['Normalize']=dataset"
   ]
  },
  {
   "cell_type": "code",
   "execution_count": 10,
   "metadata": {},
   "outputs": [],
   "source": [
    "from sklearn.model_selection import train_test_split\n",
    "x=df1.iloc[:,:-1]\n",
    "y=df1.iloc[:,3]\n",
    "x_train,x_test,y_train,y_test=train_test_split(x,y,test_size=0.2,random_state=0)"
   ]
  },
  {
   "cell_type": "code",
   "execution_count": 11,
   "metadata": {},
   "outputs": [
    {
     "data": {
      "text/plain": [
       "SVR(C=1.0, cache_size=200, coef0=0.0, degree=3, epsilon=0.1, gamma='auto',\n",
       "  kernel='rbf', max_iter=-1, shrinking=True, tol=0.001, verbose=False)"
      ]
     },
     "execution_count": 11,
     "metadata": {},
     "output_type": "execute_result"
    }
   ],
   "source": [
    "\n",
    "from sklearn.model_selection import train_test_split\n",
    "from sklearn.svm import SVR\n",
    "from sklearn.metrics import r2_score,mean_squared_error\n",
    "import matplotlib.pyplot as plt\n",
    "from sklearn.metrics import mean_absolute_error\n",
    "SupportVectorRegModel=SVR()\n",
    "SupportVectorRegModel.fit(x_train,y_train)\n"
   ]
  },
  {
   "cell_type": "code",
   "execution_count": 13,
   "metadata": {},
   "outputs": [
    {
     "data": {
      "text/plain": [
       "array([0.12725803, 0.12574493, 0.13676748, ..., 0.13084328, 0.20079783,\n",
       "       0.1427516 ])"
      ]
     },
     "execution_count": 13,
     "metadata": {},
     "output_type": "execute_result"
    }
   ],
   "source": [
    "y_pred = SupportVectorRegModel.predict(x_train)\n",
    "y_pred"
   ]
  },
  {
   "cell_type": "code",
   "execution_count": 14,
   "metadata": {},
   "outputs": [
    {
     "data": {
      "text/plain": [
       "0.009989833788820675"
      ]
     },
     "execution_count": 14,
     "metadata": {},
     "output_type": "execute_result"
    }
   ],
   "source": [
    "mse = mean_squared_error(y_train,y_pred)\n",
    "mse"
   ]
  },
  {
   "cell_type": "code",
   "execution_count": 15,
   "metadata": {},
   "outputs": [
    {
     "data": {
      "text/plain": [
       "0.09994915601855113"
      ]
     },
     "execution_count": 15,
     "metadata": {},
     "output_type": "execute_result"
    }
   ],
   "source": [
    "rmse=np.sqrt(mse)\n",
    "rmse"
   ]
  },
  {
   "cell_type": "code",
   "execution_count": 16,
   "metadata": {},
   "outputs": [
    {
     "data": {
      "text/plain": [
       "0.09992657421387642"
      ]
     },
     "execution_count": 16,
     "metadata": {},
     "output_type": "execute_result"
    }
   ],
   "source": [
    "mae=mean_absolute_error(y_train, y_pred)\n",
    "mae"
   ]
  },
  {
   "cell_type": "code",
   "execution_count": null,
   "metadata": {},
   "outputs": [],
   "source": []
  },
  {
   "cell_type": "code",
   "execution_count": 18,
   "metadata": {},
   "outputs": [
    {
     "data": {
      "image/png": "[encoded data removed]",
      "text/plain": [
       "<Figure size 432x288 with 1 Axes>"
      ]
     },
     "metadata": {},
     "output_type": "display_data"
    }
   ],
   "source": [
    "trainpredict=SupportVectorRegModel.predict(x_train)\n",
    "testpredict=SupportVectorRegModel.predict(x_test)\n",
    "df_new=pd.DataFrame(trainpredict)\n",
    "df_new.columns=['trainpredict']\n",
    "new_index = df_new['trainpredict'].tail(len(testpredict)).index\n",
    "new_index+=len(testpredict)\n",
    "new_series=pd.DataFrame(index=new_index, data=testpredict)\n",
    "df_new=pd.merge(df_new,new_series,how='outer',left_index=True,right_index=True)\n",
    "df_new.columns=['trainpredict','testpredict']\n",
    "\n",
    "# plt.plot(dataset,color='darkblue')\n",
    "# plt.plot(df_new['trainpredict'],color='lightpink')\n",
    "# plt.plot(df_new['testpredict'],color='lightblue')\n",
    "plt.title(\"SVM Model\")\n",
    "plt.xlabel(\"Indexes\")\n",
    "plt.ylabel(\"Average Values for PM2.5\")\n",
    "plt.plot(dataset,color='darkblue',label='Original Values')\n",
    "plt.plot(df_new['trainpredict'],color='lightpink',label='Training Dataset Predicted Values')\n",
    "plt.plot(df_new['testpredict'],color='lightblue',label='Testing Dataset Predicted Values')\n",
    "plt.legend()\n",
    "plt.show()"
   ]
  },
  {
   "cell_type": "code",
   "execution_count": null,
   "metadata": {},
   "outputs": [],
   "source": []
  }
 ],
 "metadata": {
  "kernelspec": {
   "display_name": "Python 3",
   "language": "python",
   "name": "python3"
  },
  "language_info": {
   "codemirror_mode": {
    "name": "ipython",
    "version": 3
   },
   "file_extension": ".py",
   "mimetype": "text/x-python",
   "name": "python",
   "nbconvert_exporter": "python",
   "pygments_lexer": "ipython3",
   "version": "3.6.5"
  }
 },
 "nbformat": 4,
 "nbformat_minor": 2
}
