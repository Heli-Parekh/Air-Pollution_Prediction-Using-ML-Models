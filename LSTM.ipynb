{
 "cells": [
  {
   "cell_type": "code",
   "execution_count": 2,
   "metadata": {},
   "outputs": [
    {
     "name": "stderr",
     "output_type": "stream",
     "text": [
      "Using TensorFlow backend.\n"
     ]
    }
   ],
   "source": [
    "import numpy\n",
    "import matplotlib.pyplot as plt\n",
    "import pandas as pd\n",
    "import math\n",
    "\n",
    "from keras.models import Sequential\n",
    "from keras.layers import Dense\n",
    "from keras.layers import LSTM\n",
    "from sklearn.metrics import mean_squared_error\n",
    "from sklearn.metrics import mean_absolute_error"
   ]
  },
  {
   "cell_type": "code",
   "execution_count": 3,
   "metadata": {},
   "outputs": [],
   "source": [
    "# convert an array of values into a dataset matrix\n",
    "\n",
    "def create_dataset(dataset, look_back=1):\n",
    "\tdataX, dataY = [], []\n",
    "\tfor i in range(len(dataset)-look_back-1):\n",
    "\t\ta = dataset[i:(i+look_back)]\n",
    "\t\tdataX.append(a)\n",
    "\t\tdataY.append(dataset[i + look_back])\n",
    "\treturn numpy.array(dataX), numpy.array(dataY)"
   ]
  },
  {
   "cell_type": "code",
   "execution_count": 4,
   "metadata": {},
   "outputs": [],
   "source": [
    "# fix random seed for reproducibility\n",
    "numpy.random.seed(7)\n",
    "\n",
    "# load the dataset\n",
    "series = pd.read_csv(r'C:\\Users\\SMART\\Desktop\\internship\\AirPollutionSeoul\\original Data\\Measurement_info.csv',engine='python')"
   ]
  },
  {
   "cell_type": "code",
   "execution_count": 5,
   "metadata": {},
   "outputs": [],
   "source": [
    "#Filtering\n",
    "\n",
    "df=pd.DataFrame(series)\n",
    "df=df[(df['Station code'] == 101) & (df['Item code'] == 9)]\n",
    "#df=df[(df['Station code'] == 102) & (df['Item code'] == 9)]\n",
    "#df=df[(df['Station code'] == 103) & (df['Item code'] == 9)]\n",
    "#df=df[(df['Station code'] == 104) & (df['Item code'] == 9)]\n",
    "df=df.drop(['Station code','Item code','Instrument status'],axis=1)\n",
    "dataset = df['Average value'].values\n",
    "dataset = dataset.astype('float32')"
   ]
  },
  {
   "cell_type": "code",
   "execution_count": 6,
   "metadata": {},
   "outputs": [],
   "source": [
    "# normalize the dataset\n",
    "\n",
    "minimum=min(dataset)\n",
    "maximum=max(dataset)\n",
    "diff=maximum-minimum\n",
    "for i in range(0,len(dataset)):\n",
    "    dataset[i]=(dataset[i]-minimum)/diff   "
   ]
  },
  {
   "cell_type": "code",
   "execution_count": 7,
   "metadata": {},
   "outputs": [],
   "source": [
    "# split into train and test sets\n",
    "\n",
    "train_size = int(len(dataset) * 0.80)\n",
    "test_size = len(dataset) - train_size\n",
    "train, test = dataset[0:train_size], dataset[train_size:len(dataset)]"
   ]
  },
  {
   "cell_type": "code",
   "execution_count": 8,
   "metadata": {},
   "outputs": [],
   "source": [
    "# reshape into X=t and Y=t+1\n",
    "\n",
    "look_back = 4\n",
    "trainX, trainY = create_dataset(train, look_back)\n",
    "testX, testY = create_dataset(test, look_back)"
   ]
  },
  {
   "cell_type": "code",
   "execution_count": 9,
   "metadata": {},
   "outputs": [],
   "source": [
    "# reshape input to be [samples, time steps, features]\n",
    "\n",
    "trainX = numpy.reshape(trainX, (trainX.shape[0], 1, trainX.shape[1]))\n",
    "testX = numpy.reshape(testX, (testX.shape[0], 1, testX.shape[1]))"
   ]
  },
  {
   "cell_type": "code",
   "execution_count": 10,
   "metadata": {},
   "outputs": [
    {
     "name": "stdout",
     "output_type": "stream",
     "text": [
      "WARNING:tensorflow:From C:\\Users\\SMART\\Anaconda3\\lib\\site-packages\\tensorflow\\python\\framework\\op_def_library.py:263: colocate_with (from tensorflow.python.framework.ops) is deprecated and will be removed in a future version.\n",
      "Instructions for updating:\n",
      "Colocations handled automatically by placer.\n",
      "WARNING:tensorflow:From C:\\Users\\SMART\\Anaconda3\\lib\\site-packages\\tensorflow\\python\\ops\\math_ops.py:3066: to_int32 (from tensorflow.python.ops.math_ops) is deprecated and will be removed in a future version.\n",
      "Instructions for updating:\n",
      "Use tf.cast instead.\n",
      "Epoch 1/50\n",
      " - 29s - loss: 0.0012\n",
      "Epoch 2/50\n",
      " - 21s - loss: 9.0289e-04\n",
      "Epoch 3/50\n",
      " - 24s - loss: 8.7175e-04\n",
      "Epoch 4/50\n",
      " - 30s - loss: 8.4904e-04\n",
      "Epoch 5/50\n",
      " - 25s - loss: 8.2254e-04\n",
      "Epoch 6/50\n",
      " - 22s - loss: 8.0164e-04\n",
      "Epoch 7/50\n",
      " - 22s - loss: 7.9071e-04\n",
      "Epoch 8/50\n",
      " - 22s - loss: 7.7368e-04\n",
      "Epoch 9/50\n",
      " - 23s - loss: 7.6279e-04\n",
      "Epoch 10/50\n",
      " - 23s - loss: 7.5141e-04\n",
      "Epoch 11/50\n",
      " - 20s - loss: 7.4726e-04\n",
      "Epoch 12/50\n",
      " - 23s - loss: 7.4750e-04\n",
      "Epoch 13/50\n",
      " - 29s - loss: 7.3873e-04\n",
      "Epoch 14/50\n",
      " - 21s - loss: 7.3425e-04\n",
      "Epoch 15/50\n",
      " - 21s - loss: 7.3427e-04\n",
      "Epoch 16/50\n",
      " - 20s - loss: 7.2801e-04\n",
      "Epoch 17/50\n",
      " - 20s - loss: 7.3427e-04\n",
      "Epoch 18/50\n",
      " - 20s - loss: 7.2131e-04\n",
      "Epoch 19/50\n",
      " - 21s - loss: 7.2925e-04\n",
      "Epoch 20/50\n",
      " - 20s - loss: 7.2597e-04\n",
      "Epoch 21/50\n",
      " - 22s - loss: 7.1980e-04\n",
      "Epoch 22/50\n",
      " - 22s - loss: 7.1998e-04\n",
      "Epoch 23/50\n",
      " - 22s - loss: 7.2472e-04\n",
      "Epoch 24/50\n",
      " - 25s - loss: 7.2135e-04\n",
      "Epoch 25/50\n",
      " - 29s - loss: 7.2386e-04\n",
      "Epoch 26/50\n",
      " - 25s - loss: 7.2198e-04\n",
      "Epoch 27/50\n",
      " - 27s - loss: 7.2080e-04\n",
      "Epoch 28/50\n",
      " - 24s - loss: 7.2252e-04\n",
      "Epoch 29/50\n",
      " - 23s - loss: 7.1636e-04\n",
      "Epoch 30/50\n",
      " - 25s - loss: 7.2038e-04\n",
      "Epoch 31/50\n",
      " - 22s - loss: 7.1351e-04\n",
      "Epoch 32/50\n",
      " - 22s - loss: 7.1919e-04\n",
      "Epoch 33/50\n",
      " - 22s - loss: 7.1841e-04\n",
      "Epoch 34/50\n",
      " - 24s - loss: 7.1831e-04\n",
      "Epoch 35/50\n",
      " - 23s - loss: 7.1828e-04\n",
      "Epoch 36/50\n",
      " - 24s - loss: 7.1866e-04\n",
      "Epoch 37/50\n",
      " - 21s - loss: 7.1822e-04\n",
      "Epoch 38/50\n",
      " - 23s - loss: 7.1369e-04\n",
      "Epoch 39/50\n",
      " - 21s - loss: 7.1723e-04\n",
      "Epoch 40/50\n",
      " - 22s - loss: 7.1436e-04\n",
      "Epoch 41/50\n",
      " - 21s - loss: 7.1273e-04\n",
      "Epoch 42/50\n",
      " - 22s - loss: 7.1740e-04\n",
      "Epoch 43/50\n",
      " - 21s - loss: 7.1026e-04\n",
      "Epoch 44/50\n",
      " - 22s - loss: 7.1402e-04\n",
      "Epoch 45/50\n",
      " - 22s - loss: 7.1893e-04\n",
      "Epoch 46/50\n",
      " - 25s - loss: 7.1356e-04\n",
      "Epoch 47/50\n",
      " - 22s - loss: 7.1666e-04\n",
      "Epoch 48/50\n",
      " - 22s - loss: 7.1241e-04\n",
      "Epoch 49/50\n",
      " - 23s - loss: 7.1385e-04\n",
      "Epoch 50/50\n",
      " - 23s - loss: 7.1342e-04\n"
     ]
    },
    {
     "data": {
      "text/plain": [
       "<keras.callbacks.History at 0x1bd0580e550>"
      ]
     },
     "execution_count": 10,
     "metadata": {},
     "output_type": "execute_result"
    }
   ],
   "source": [
    "# create and fit the LSTM network\n",
    "\n",
    "model = Sequential()\n",
    "model.add(LSTM(4, input_shape=(1, look_back)))\n",
    "model.add(Dense(1))\n",
    "model.compile(loss='mean_squared_error', optimizer='adam')\n",
    "model.fit(trainX, trainY, epochs=50, batch_size=1, verbose=2)"
   ]
  },
  {
   "cell_type": "code",
   "execution_count": 11,
   "metadata": {},
   "outputs": [],
   "source": [
    "# make predictions\n",
    "\n",
    "trainPredict = model.predict(trainX)\n",
    "testPredict = model.predict(testX)"
   ]
  },
  {
   "cell_type": "code",
   "execution_count": 12,
   "metadata": {},
   "outputs": [
    {
     "name": "stdout",
     "output_type": "stream",
     "text": [
      "Train Score: 0.03 RMSE\n",
      "Test Score: 0.01 RMSE\n"
     ]
    }
   ],
   "source": [
    "# calculate root mean squared error\n",
    "\n",
    "trainScore = math.sqrt(mean_squared_error(trainY, trainPredict))\n",
    "print('Train Score: %.2f RMSE' % (trainScore))\n",
    "testScore = math.sqrt(mean_squared_error(testY, testPredict))\n",
    "print('Test Score: %.2f RMSE' % (testScore))"
   ]
  },
  {
   "cell_type": "code",
   "execution_count": 13,
   "metadata": {},
   "outputs": [
    {
     "name": "stdout",
     "output_type": "stream",
     "text": [
      "Train Score: 0.01 MAE\n",
      "Test Score: 0.01 MAE\n"
     ]
    }
   ],
   "source": [
    "# calculate mean absolute error\n",
    "\n",
    "trainScore = mean_absolute_error(trainY, trainPredict)\n",
    "print('Train Score: %.2f MAE' % (trainScore))\n",
    "testScore = mean_absolute_error(testY, testPredict)\n",
    "print('Test Score: %.2f MAE' % (testScore))"
   ]
  },
  {
   "cell_type": "code",
   "execution_count": 20,
   "metadata": {},
   "outputs": [
    {
     "data": {
      "image/png": "[encoded data removed]",
      "text/plain": [
       "<Figure size 432x288 with 1 Axes>"
      ]
     },
     "metadata": {
      "needs_background": "light"
     },
     "output_type": "display_data"
    }
   ],
   "source": [
    "# Make a new dataframe of your prediction values\n",
    "df_new = pd.DataFrame(trainPredict)\n",
    "df_new.columns = ['trainPredict']\n",
    "\n",
    "# Retrieve index values\n",
    "new_index = df_new['trainPredict'].tail(len(testPredict)).index\n",
    "new_index+=len(testPredict)\n",
    "\n",
    "# Make a dataframe with your prediction values and your index\n",
    "new_series = pd.DataFrame(index=new_index,data = testPredict)\n",
    "\n",
    "# Merge the dataframes\n",
    "df_new = pd.merge(df_new, new_series, how = 'outer', left_index=True, right_index=True)\n",
    "df_new.columns = ['trainPredict', 'testPredict']\n",
    "\n",
    "# plot graphs\n",
    "plt.title(\"LSTM Model\")\n",
    "plt.xlabel(\"Indexes\")\n",
    "plt.ylabel(\"Average Values for PM2.5\")\n",
    "plt.plot(dataset,color='red',label='Original Values')\n",
    "plt.plot(df_new['trainPredict'],color='orange',label='Training Dataset Predicted Values')\n",
    "plt.plot(df_new['testPredict'],color='yellow',label='Testing Dataset Predicted Values')\n",
    "plt.legend()\n",
    "plt.show()"
   ]
  }
 ],
 "metadata": {
  "kernelspec": {
   "display_name": "Python 3",
   "language": "python",
   "name": "python3"
  },
  "language_info": {
   "codemirror_mode": {
    "name": "ipython",
    "version": 3
   },
   "file_extension": ".py",
   "mimetype": "text/x-python",
   "name": "python",
   "nbconvert_exporter": "python",
   "pygments_lexer": "ipython3",
   "version": "3.7.1"
  }
 },
 "nbformat": 4,
 "nbformat_minor": 2
}
